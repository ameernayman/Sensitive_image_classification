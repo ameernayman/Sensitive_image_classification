{
  "nbformat": 4,
  "nbformat_minor": 0,
  "metadata": {
    "colab": {
      "name": "Text_Classification.ipynb",
      "provenance": [],
      "collapsed_sections": [],
      "include_colab_link": true
    },
    "kernelspec": {
      "name": "python3",
      "display_name": "Python 3"
    },
    "language_info": {
      "name": "python"
    }
  },
  "cells": [
    {
      "cell_type": "markdown",
      "metadata": {
        "id": "view-in-github",
        "colab_type": "text"
      },
      "source": [
        "<a href=\"https://colab.research.google.com/github/ameernayman/Sensitive_image_classification/blob/main/Text_Classification.ipynb\" target=\"_parent\"><img src=\"https://colab.research.google.com/assets/colab-badge.svg\" alt=\"Open In Colab\"/></a>"
      ]
    },
    {
      "cell_type": "markdown",
      "metadata": {
        "id": "sM59X-o79RgC"
      },
      "source": [
        "# Sensitive Data classification for text\n",
        "\n",
        "##  This model run in google colab https://colab.research.google.com/"
      ]
    },
    {
      "cell_type": "code",
      "source": [
        "import tensorflow as tf\n",
        "import json\n",
        "import os\n",
        "import random\n",
        "import numpy\n",
        "\n",
        "from tensorflow.keras.preprocessing.text import Tokenizer\n",
        "from tensorflow.keras.preprocessing.sequence import pad_sequences"
      ],
      "metadata": {
        "id": "8KD86wyWoQ0v"
      },
      "execution_count": 83,
      "outputs": []
    },
    {
      "cell_type": "code",
      "metadata": {
        "id": "leaIgZqWI9HX"
      },
      "source": [
        "\n",
        "text_folder = \"/content/Sensitive_image_classification\"\n",
        "if os.path.exists(text_folder) == False:\n",
        "  !git clone https://github.com/ameernayman/Sensitive_image_classification.git\n",
        "\n",
        "dataset_text = text_folder + \"/dataset_text/\"\n",
        "sensitive_json = \"data_sensitive.json\"\n",
        "nonsensitive_json = \"data_nonsensitive.json\""
      ],
      "execution_count": 84,
      "outputs": []
    },
    {
      "cell_type": "markdown",
      "metadata": {
        "id": "7i3YvPoe9ZaT"
      },
      "source": [
        "### Text model Preprocessing the dataset"
      ]
    },
    {
      "cell_type": "code",
      "metadata": {
        "colab": {
          "base_uri": "https://localhost:8080/"
        },
        "id": "vIUEAZOfJyy-",
        "outputId": "6d174b2f-b7c1-4b52-f6aa-1c0fcc8eed3a"
      },
      "source": [
        "textData = []\n",
        "textSentences = []\n",
        "textLabels = []\n",
        "size_training = 20000\n",
        "stopwords_text = [ \"a\", \"about\", \"above\", \"after\", \"again\", \"against\", \"all\", \"am\", \"an\", \"and\", \"any\", \"are\", \"as\", \"at\", \"be\", \"because\", \"been\", \"before\", \"being\", \"below\", \"between\", \"both\", \"but\", \"by\", \"could\", \"did\", \"do\", \"does\", \"doing\", \"down\", \"during\", \"each\", \"few\", \"for\", \"from\", \"further\", \"had\", \"has\", \"have\", \"having\", \"he\", \"he'd\", \"he'll\", \"he's\", \"her\", \"here\", \"here's\", \"hers\", \"herself\", \"him\", \"himself\", \"his\", \"how\", \"how's\", \"i\", \"i'd\", \"i'll\", \"i'm\", \"i've\", \"if\", \"in\", \"into\", \"is\", \"it\", \"it's\", \"its\", \"itself\", \"let's\", \"me\", \"more\", \"most\", \"my\", \"myself\", \"nor\", \"of\", \"on\", \"once\", \"only\", \"or\", \"other\", \"ought\", \"our\", \"ours\", \"ourselves\", \"out\", \"over\", \"own\", \"same\", \"she\", \"she'd\", \"she'll\", \"she's\", \"should\", \"so\", \"some\", \"such\", \"than\", \"that\", \"that's\", \"the\", \"their\", \"theirs\", \"them\", \"themselves\", \"then\", \"there\", \"there's\", \"these\", \"they\", \"they'd\", \"they'll\", \"they're\", \"they've\", \"this\", \"those\", \"through\", \"to\", \"too\", \"under\", \"until\", \"up\", \"very\", \"was\", \"we\", \"we'd\", \"we'll\", \"we're\", \"we've\", \"were\", \"what\", \"what's\", \"when\", \"when's\", \"where\", \"where's\", \"which\", \"while\", \"who\", \"who's\", \"whom\", \"why\", \"why's\", \"with\", \"would\", \"you\", \"you'd\", \"you'll\", \"you're\", \"you've\", \"your\", \"yours\", \"yourself\", \"yourselves\" ]\n",
        "\n",
        "def load_data(filename):\n",
        "  with open(dataset_text + filename, 'r') as f:\n",
        "      data_store = json.load(f)\n",
        "  for value in data_store:\n",
        "    textSentences = value['data']\n",
        "    textLabels = value['is_sensitive']\n",
        "    for wrd in stopwords_text: \n",
        "      token = \" \" + wrd + \" \"\n",
        "      textSentences = textSentences.replace(token, \" \")\n",
        "    textData.append([textSentences, textLabels])\n",
        "\n",
        "\n",
        "load_data(sensitive_json)\n",
        "load_data(nonsensitive_json)\n",
        "\n",
        "random.shuffle(textData)\n",
        "\n",
        "\n",
        "for item in textData:\n",
        "  textSentences.append(item[0])\n",
        "  textLabels.append(item[1])\n",
        "\n",
        "\n",
        "training_snt_text= textSentences[0:size_training]\n",
        "validation_snt_text = textSentences[size_training:]\n",
        "training_lbls_text = textLabels[0:size_training]\n",
        "validation_lbls_text = textLabels[size_training:]\n",
        "\n",
        "print(\"Size of Training Data set is: \", len(training_snt_text))\n",
        "print(\"Training Data Sample:\", training_snt_text[0])\n",
        "print(\"Size of Validation Data set is: \", len(validation_snt_text))\n",
        "print(\"Validation Sample:\", validation_snt_text[0])"
      ],
      "execution_count": 85,
      "outputs": [
        {
          "output_type": "stream",
          "name": "stdout",
          "text": [
            "Size of Training Data set is:  20000\n",
            "Training Data Sample: Arden Stuart (Greta Garbo) believes single standard conduct apply sexes. She strives combination freedom, equality, honesty love. Her first attempt chauffeur Anthony Kendall, secretly disillusioned \"ace aviator\" son lord. However romance ends disaster; commits suicide fired it.\n",
            "Her longtime admirer Tommy Hewlett (Johnny Mack Brown) wants marry her, Arden finds fulfillment chance encounter Packy Cannon (Nils Asther), wealthy ex-prizefighter turned painter. He planned cruise South Seas yacht alone, impulsively goes him. After months idyllic bliss however, turns around takes home, explaining needs full attention painting.\n",
            "Though Tommy knows Arden's love Packy, begs marry anyway. She agrees. Several years go by, much-beloved son.\n",
            "However, Packy returns admits Arden not stop thinking her. She swept away agrees sail away him. Tommy confronts rival gun; orders Packy pretend reject Arden, promising arrange hunting \"accident\" himself, Arden can Packy without scandal hurt son. Meanwhile, Arden comes realize child means anyone else. She tells Packy cannot go him. Tommy, unaware latest development, arranges shooting accident, Arden figures time.\n",
            "Size of Validation Data set is:  11576\n",
            "Validation Sample: Five young women named Beth, Brea, Carla, Heather, Heather's cousin Paula take summer vacation together resort Lake Arrowhead, go parties become involved local men. However, things go haywire women mysterious killer targets them.[2]\n"
          ]
        }
      ]
    },
    {
      "cell_type": "markdown",
      "source": [
        "# Creating training, validation sequence and labels "
      ],
      "metadata": {
        "id": "04dnaHoDzBmJ"
      }
    },
    {
      "cell_type": "code",
      "metadata": {
        "id": "Kt01OaiEMbQ9",
        "colab": {
          "base_uri": "https://localhost:8080/"
        },
        "outputId": "0bc79f36-60e1-43dc-bdaa-e73da9f65c27"
      },
      "source": [
        "\n",
        "type_trunc='post'\n",
        "padding='post'\n",
        "out_of_vocb = \"<OOV>\"\n",
        "\n",
        "length_text = 60\n",
        "size_vocab = 3000\n",
        "tknizer = Tokenizer(num_words=size_vocab, oov_token=out_of_vocb)\n",
        "\n",
        "tknizer.fit_on_texts(training_snt_text)\n",
        "\n",
        "index_words = tknizer.word_index\n",
        "print(\"Size of word index:\", len(index_words))\n",
        "\n",
        "with open(\"word_index.json\", \"w\") as outfile:  \n",
        "    json.dump(index_words, outfile)\n",
        "    print(\"Saving the word index as JSON\")\n",
        "\n",
        "\n",
        "training_squnce = tknizer.texts_to_sequences(training_snt_text)\n",
        "padding_Tdataset = pad_sequences(training_squnce, maxlen=length_text, padding=padding, truncating=type_trunc)\n",
        "\n",
        "\n",
        "validation_squnce = tknizer.texts_to_sequences(validation_snt_text)\n",
        "padding_Vdataset = pad_sequences(validation_squnce, maxlen=length_text, padding=padding, truncating=type_trunc)\n",
        "padding_Tdataset = numpy.array(padding_Tdataset)\n",
        "training_lbls_text = numpy.array(training_lbls_text)\n",
        "padding_Vdataset = numpy.array(padding_Vdataset)\n",
        "validation_lbls_text = numpy.array(validation_lbls_text)"
      ],
      "execution_count": 86,
      "outputs": [
        {
          "output_type": "stream",
          "name": "stdout",
          "text": [
            "Size of word index: 102383\n",
            "Saving the word index as JSON\n"
          ]
        }
      ]
    },
    {
      "cell_type": "markdown",
      "metadata": {
        "id": "9OLtjmJw9ehH"
      },
      "source": [
        "## Sequential Model Using Conv1D, GlobalPooling, and with Dense layer"
      ]
    },
    {
      "cell_type": "code",
      "metadata": {
        "colab": {
          "base_uri": "https://localhost:8080/"
        },
        "id": "p5ADD9CuNFWB",
        "outputId": "34c23ced-9afe-4680-a04f-17cd43b688b5"
      },
      "source": [
        "\n",
        "dimensions = 32\n",
        "model = tf.keras.Sequential([\n",
        "    tf.keras.layers.Embedding(size_vocab, dimensions, input_length=length_text),\n",
        "    tf.keras.layers.Conv1D(64, 5, activation='relu'),\n",
        "    tf.keras.layers.GlobalAveragePooling1D(),\n",
        "    tf.keras.layers.Dense(24, activation='relu'),\n",
        "    tf.keras.layers.Dense(1, activation='sigmoid')\n",
        "])\n",
        "\n",
        "\n",
        "model.compile(loss='binary_crossentropy',optimizer='adam',metrics=['accuracy'])\n",
        "\n",
        "model.summary()"
      ],
      "execution_count": 87,
      "outputs": [
        {
          "output_type": "stream",
          "name": "stdout",
          "text": [
            "Model: \"sequential_10\"\n",
            "_________________________________________________________________\n",
            " Layer (type)                Output Shape              Param #   \n",
            "=================================================================\n",
            " embedding_10 (Embedding)    (None, 60, 32)            96000     \n",
            "                                                                 \n",
            " conv1d_10 (Conv1D)          (None, 56, 64)            10304     \n",
            "                                                                 \n",
            " global_average_pooling1d_10  (None, 64)               0         \n",
            "  (GlobalAveragePooling1D)                                       \n",
            "                                                                 \n",
            " dense_20 (Dense)            (None, 24)                1560      \n",
            "                                                                 \n",
            " dense_21 (Dense)            (None, 1)                 25        \n",
            "                                                                 \n",
            "=================================================================\n",
            "Total params: 107,889\n",
            "Trainable params: 107,889\n",
            "Non-trainable params: 0\n",
            "_________________________________________________________________\n"
          ]
        }
      ]
    },
    {
      "cell_type": "markdown",
      "source": [
        "# Callback function to aviod overfitting"
      ],
      "metadata": {
        "id": "u3Av3Kkhzs4h"
      }
    },
    {
      "cell_type": "code",
      "source": [
        "\n",
        "ACCURACY = 0.99\n",
        "class myEpoch(tf.keras.callbacks.Callback):\n",
        "  def on_epoch_end(self, epoch, logs={}):\n",
        "    if logs.get('accuracy') > ACCURACY:\n",
        "      print(\" Accurracy is 0.99 then cancel the epoch\")\n",
        "      self.model.stop_training = True\n",
        "\n",
        "epoch_callbacks = myEpoch()\n"
      ],
      "metadata": {
        "id": "KV_BMMYdmXwc"
      },
      "execution_count": 88,
      "outputs": []
    },
    {
      "cell_type": "markdown",
      "metadata": {
        "id": "mb2NlD159g8k"
      },
      "source": [
        "## Valdation and Training model fitting\n"
      ]
    },
    {
      "cell_type": "code",
      "metadata": {
        "colab": {
          "base_uri": "https://localhost:8080/"
        },
        "id": "7TP5ThxvNPK8",
        "outputId": "00a7b3fe-55bd-4eec-c737-4bc37a0afdcb"
      },
      "source": [
        "no_epochs = 10\n",
        "\n",
        "\n",
        "history = model.fit(padding_Tdataset, \n",
        "                    training_lbls_text, \n",
        "                    epochs=no_epochs, \n",
        "                    validation_data=(\n",
        "                        padding_Vdataset, \n",
        "                        validation_lbls_text), \n",
        "                    verbose=1)\n",
        "                    #callbacks=[epoch_callbacks])"
      ],
      "execution_count": 89,
      "outputs": [
        {
          "output_type": "stream",
          "name": "stdout",
          "text": [
            "Epoch 1/10\n",
            "625/625 [==============================] - 8s 11ms/step - loss: 0.0515 - accuracy: 0.9916 - val_loss: 0.0032 - val_accuracy: 0.9987\n",
            "Epoch 2/10\n",
            "625/625 [==============================] - 7s 11ms/step - loss: 0.0015 - accuracy: 0.9997 - val_loss: 4.6975e-04 - val_accuracy: 0.9999\n",
            "Epoch 3/10\n",
            "625/625 [==============================] - 7s 11ms/step - loss: 3.6711e-04 - accuracy: 0.9998 - val_loss: 1.2423e-04 - val_accuracy: 1.0000\n",
            "Epoch 4/10\n",
            "625/625 [==============================] - 7s 11ms/step - loss: 1.2804e-04 - accuracy: 0.9999 - val_loss: 4.9642e-05 - val_accuracy: 1.0000\n",
            "Epoch 5/10\n",
            "625/625 [==============================] - 6s 10ms/step - loss: 5.3410e-05 - accuracy: 1.0000 - val_loss: 2.8037e-05 - val_accuracy: 1.0000\n",
            "Epoch 6/10\n",
            "625/625 [==============================] - 7s 11ms/step - loss: 2.7080e-05 - accuracy: 1.0000 - val_loss: 1.9742e-05 - val_accuracy: 1.0000\n",
            "Epoch 7/10\n",
            "625/625 [==============================] - 7s 11ms/step - loss: 1.3297e-05 - accuracy: 1.0000 - val_loss: 6.3597e-05 - val_accuracy: 1.0000\n",
            "Epoch 8/10\n",
            "625/625 [==============================] - 6s 10ms/step - loss: 2.5837e-04 - accuracy: 0.9999 - val_loss: 1.1948e-05 - val_accuracy: 1.0000\n",
            "Epoch 9/10\n",
            "625/625 [==============================] - 7s 11ms/step - loss: 7.9228e-06 - accuracy: 1.0000 - val_loss: 4.2568e-06 - val_accuracy: 1.0000\n",
            "Epoch 10/10\n",
            "625/625 [==============================] - 7s 11ms/step - loss: 4.1716e-06 - accuracy: 1.0000 - val_loss: 3.2415e-06 - val_accuracy: 1.0000\n"
          ]
        }
      ]
    },
    {
      "cell_type": "markdown",
      "metadata": {
        "id": "poN5h1SD9tiE"
      },
      "source": [
        "## Plotting Accuracy and Loss graph for Text Model"
      ]
    },
    {
      "cell_type": "code",
      "metadata": {
        "id": "WCDbITWsNWlI",
        "colab": {
          "base_uri": "https://localhost:8080/",
          "height": 543
        },
        "outputId": "33704855-a33a-4ff0-f38f-96c3b2a87451"
      },
      "source": [
        "import matplotlib.pyplot as plot\n",
        "\n",
        "\n",
        "def graphsPlot(history, str):\n",
        "  plot.plot(history.history[str])\n",
        "  plot.plot(history.history['val_'+str])\n",
        "  plot.xlabel(\"Number_of_Epochs\")\n",
        "  plot.ylabel(str)\n",
        "  plot.legend([str, 'val_'+str])\n",
        "  plot.show()\n",
        "  \n",
        "graphsPlot(history, \"accuracy\")\n",
        "graphsPlot(history, \"loss\")"
      ],
      "execution_count": 90,
      "outputs": [
        {
          "output_type": "display_data",
          "data": {
            "text/plain": [
              "<Figure size 432x288 with 1 Axes>"
            ],
            "image/png": "[encoded data removed]"
          },
          "metadata": {
            "needs_background": "light"
          }
        },
        {
          "output_type": "display_data",
          "data": {
            "text/plain": [
              "<Figure size 432x288 with 1 Axes>"
            ],
            "image/png": "[encoded data removed]"
          },
          "metadata": {
            "needs_background": "light"
          }
        }
      ]
    },
    {
      "cell_type": "markdown",
      "metadata": {
        "id": "z9ymTQswYUQz"
      },
      "source": [
        "# Ploting the Confusion Matrix"
      ]
    },
    {
      "cell_type": "code",
      "metadata": {
        "id": "tVdCGN-tYXqX",
        "colab": {
          "base_uri": "https://localhost:8080/",
          "height": 1000
        },
        "outputId": "d9c566a2-afe8-470a-d77e-e3715fd3bb8a"
      },
      "source": [
        "import seaborn\n",
        "\n",
        "text_predicted = model.predict(padding_Vdataset)\n",
        "predicted_text_labels = text_predicted > 0.5\n",
        "\n",
        "size = numpy.size(predicted_text_labels)\n",
        "predicted_text_labels = predicted_text_labels.reshape(size, )\n",
        "\n",
        "for num in range (3, 7):\n",
        "  count = num * size // 4\n",
        "  text_matrix = tf.math.confusion_matrix(labels=validation_lbls_text[0:count],predictions=predicted_text_labels[0:count])\n",
        "\n",
        "  confusion_matrix = text_matrix.numpy()\n",
        "  conf_acc = (confusion_matrix[0, 0] + confusion_matrix[1, 1])/ numpy.sum(confusion_matrix) * 100\n",
        "  print(\"Accuracy for\", str(count), \"Test Data = \", conf_acc)\n",
        "\n",
        "  plot.figure(figsize = (10,7))\n",
        "  seaborn.heatmap(text_matrix, annot=True, fmt='d', cmap='Blues')\n",
        "  plot.title(\"Text confusion matrix \" + str(count) + \" for Text Data\")\n",
        "  plot.xlabel('Predicted')\n",
        "  plot.ylabel('Expected')"
      ],
      "execution_count": 91,
      "outputs": [
        {
          "output_type": "stream",
          "name": "stdout",
          "text": [
            "Accuracy for 8682 Test Data =  100.0\n",
            "Accuracy for 11576 Test Data =  100.0\n",
            "Accuracy for 14470 Test Data =  100.0\n",
            "Accuracy for 17364 Test Data =  100.0\n"
          ]
        },
        {
          "output_type": "display_data",
          "data": {
            "text/plain": [
              "<Figure size 720x504 with 2 Axes>"
            ],
            "image/png": "[encoded data removed]"
          },
          "metadata": {
            "needs_background": "light"
          }
        },
        {
          "output_type": "display_data",
          "data": {
            "text/plain": [
              "<Figure size 720x504 with 2 Axes>"
            ],
            "image/png": "[encoded data removed]"
          },
          "metadata": {
            "needs_background": "light"
          }
        },
        {
          "output_type": "display_data",
          "data": {
            "text/plain": [
              "<Figure size 720x504 with 2 Axes>"
            ],
            "image/png": "[encoded data removed]"
          },
          "metadata": {
            "needs_background": "light"
          }
        },
        {
          "output_type": "display_data",
          "data": {
            "text/plain": [
              "<Figure size 720x504 with 2 Axes>"
            ],
            "image/png": "[encoded data removed]"
          },
          "metadata": {
            "needs_background": "light"
          }
        }
      ]
    },
    {
      "cell_type": "markdown",
      "metadata": {
        "id": "plgECuQc9wdt"
      },
      "source": [
        "## Experiment"
      ]
    },
    {
      "cell_type": "code",
      "metadata": {
        "id": "Kyfb-NtpNV7h",
        "colab": {
          "base_uri": "https://localhost:8080/"
        },
        "outputId": "cea30afe-b159-41f4-e3b1-69cc1c88ba45"
      },
      "source": [
        "\n",
        "list_sntnc = [\"My name is Ameer Hussain Nayman\", \"Ronaldo scored fantasic goals\",\"congratulations, I got a job\", \"I need to run my errands\"]\n",
        "txt_seq = tknizer.texts_to_sequences(list_sntnc)\n",
        "text_pad = pad_sequences(txt_seq, maxlen=length_text, padding=padding, truncating=type_trunc)\n",
        "text_prediction = model.predict(text_pad)\n",
        "print(\"OUTPUT : Text sensitive and non-sensitive\"+\"\\n\")\n",
        "for val in range(len(text_prediction)):\n",
        "  print(text_prediction[val][0])\n",
        "  if text_prediction[val][0]>0.5:\n",
        "    print(\"Text is sensitive - \"+ list_sntnc[val])\n",
        "  else:\n",
        "    print(\"Text is non-nensitive - \" + list_sntnc[val] )"
      ],
      "execution_count": 92,
      "outputs": [
        {
          "output_type": "stream",
          "name": "stdout",
          "text": [
            "OUTPUT : Text sensitive and non-sensitive\n",
            "\n",
            "0.37814417\n",
            "Text is non-nensitive - My name is Ameer Hussain Nayman\n",
            "0.0024237335\n",
            "Text is non-nensitive - Ronaldo scored fantasic goals\n",
            "0.00017106533\n",
            "Text is non-nensitive - congratulations, I got a job\n",
            "0.0004274845\n",
            "Text is non-nensitive - I need to run my errands\n"
          ]
        }
      ]
    }
  ]
}